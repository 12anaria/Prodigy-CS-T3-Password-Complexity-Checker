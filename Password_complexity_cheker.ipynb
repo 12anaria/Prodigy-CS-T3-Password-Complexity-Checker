{
  "nbformat": 4,
  "nbformat_minor": 0,
  "metadata": {
    "colab": {
      "provenance": []
    },
    "kernelspec": {
      "name": "python3",
      "display_name": "Python 3"
    },
    "language_info": {
      "name": "python"
    }
  },
  "cells": [
    {
      "cell_type": "code",
      "execution_count": null,
      "metadata": {
        "colab": {
          "base_uri": "https://localhost:8080/"
        },
        "id": "ihJlCbmGrdxG",
        "outputId": "35316c0e-5f3a-4afa-86ca-19af1af9203c"
      },
      "outputs": [
        {
          "output_type": "stream",
          "name": "stdout",
          "text": [
            "Enter your password: Cyber@1259\n",
            "Password is strong.\n"
          ]
        }
      ],
      "source": [
        "import re\n",
        "\n",
        "def assess_password_strength(password):\n",
        "    # Define criteria for password strength\n",
        "    length_criteria = len(password) >= 8\n",
        "    uppercase_criteria = any(char.isupper() for char in password)\n",
        "    lowercase_criteria = any(char.islower() for char in password)\n",
        "    digit_criteria = any(char.isdigit() for char in password)\n",
        "    special_character_criteria = bool(re.match(r'[!@#$%^&*(),.?\":{}|<>]', password))\n",
        "\n",
        "    # Calculate the score based on criteria met\n",
        "    score = sum([length_criteria, uppercase_criteria, lowercase_criteria, digit_criteria, special_character_criteria])\n",
        "\n",
        "    # Provide feedback based on the score\n",
        "    if score == 5:\n",
        "        print(\"Password is very strong!\")\n",
        "    elif score >= 3:\n",
        "        print(\"Password is strong.\")\n",
        "    elif score >= 2:\n",
        "        print(\"Password is moderate.\")\n",
        "    elif score >= 1:\n",
        "        print(\"Password is weak.\")\n",
        "    else:\n",
        "        print(\"Password is very weak. Please choose a stronger password.\")\n",
        "\n",
        "def main():\n",
        "    password = input(\"Enter your password: \")\n",
        "    assess_password_strength(password)\n",
        "\n",
        "if __name__ == \"__main__\":\n",
        "    main()\n"
      ]
    }
  ]
}